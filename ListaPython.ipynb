{
  "nbformat": 4,
  "nbformat_minor": 0,
  "metadata": {
    "colab": {
      "provenance": [],
      "authorship_tag": "ABX9TyNziWRKULf01cLIxwZgbapZ",
      "include_colab_link": true
    },
    "kernelspec": {
      "name": "python3",
      "display_name": "Python 3"
    },
    "language_info": {
      "name": "python"
    }
  },
  "cells": [
    {
      "cell_type": "markdown",
      "metadata": {
        "id": "view-in-github",
        "colab_type": "text"
      },
      "source": [
        "<a href=\"https://colab.research.google.com/github/mat1120/mat1120/blob/main/ListaPython.ipynb\" target=\"_parent\"><img src=\"https://colab.research.google.com/assets/colab-badge.svg\" alt=\"Open In Colab\"/></a>"
      ]
    },
    {
      "cell_type": "code",
      "execution_count": 2,
      "metadata": {
        "colab": {
          "base_uri": "https://localhost:8080/"
        },
        "id": "Db75UcwfRztX",
        "outputId": "f687f8d2-ade7-4304-8fc3-b86c8cbd461f"
      },
      "outputs": [
        {
          "output_type": "stream",
          "name": "stdout",
          "text": [
            "N° 1:3\n",
            "N° 2:3\n",
            "6.0\n"
          ]
        }
      ],
      "source": [
        "n = float(input(\"N° 1:\"))\n",
        "n1 = float(input(\"N° 2:\"))\n",
        "soma = n + n1\n",
        "\n",
        "print(soma)"
      ]
    }
  ]
}