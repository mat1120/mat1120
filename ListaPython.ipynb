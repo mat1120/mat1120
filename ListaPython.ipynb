{
  "nbformat": 4,
  "nbformat_minor": 0,
  "metadata": {
    "colab": {
      "provenance": [],
      "authorship_tag": "ABX9TyPmrd5dWvyEUzC6N5dQ2+aJ",
      "include_colab_link": true
    },
    "kernelspec": {
      "name": "python3",
      "display_name": "Python 3"
    },
    "language_info": {
      "name": "python"
    }
  },
  "cells": [
    {
      "cell_type": "markdown",
      "metadata": {
        "id": "view-in-github",
        "colab_type": "text"
      },
      "source": [
        "<a href=\"https://colab.research.google.com/github/mat1120/mat1120/blob/main/ListaPython.ipynb\" target=\"_parent\"><img src=\"https://colab.research.google.com/assets/colab-badge.svg\" alt=\"Open In Colab\"/></a>"
      ]
    },
    {
      "cell_type": "code",
      "execution_count": null,
      "metadata": {
        "id": "Db75UcwfRztX"
      },
      "outputs": [],
      "source": [
        "n = float(input(\"N° 1:\"))\n",
        "n1 = float(input(\"N° 2:\"))\n",
        "soma = n + n1\n",
        "\n",
        "print(soma)"
      ]
    },
    {
      "cell_type": "code",
      "source": [
        "from time import sleep\n",
        "numero = int(input(\"N°\"))\n",
        "print(\"PROCESSANDO...\")\n",
        "sleep(3)\n",
        "#Processamento\n",
        "if numero % 2 == 0:\n",
        "  resultado = \"PAR\"\n",
        "  print(\"O RESULTADO É PAR\")\n",
        "else:\n",
        "  resultado1 = \"IMPAR\"\n",
        "  print(\"o resultado é IMPAR\")\n",
        "\n",
        "\n"
      ],
      "metadata": {
        "colab": {
          "base_uri": "https://localhost:8080/"
        },
        "id": "bmnbcxdqVEfU",
        "outputId": "ba3ea969-1d7e-48b0-f9e0-1a10b51649b1"
      },
      "execution_count": 10,
      "outputs": [
        {
          "output_type": "stream",
          "name": "stdout",
          "text": [
            "N°2\n",
            "PROCESSANDO\n",
            "O RESULTADO É PAR\n"
          ]
        }
      ]
    }
  ]
}